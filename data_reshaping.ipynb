{
 "cells": [
  {
   "cell_type": "code",
   "execution_count": 1,
   "id": "8c8cda3d",
   "metadata": {},
   "outputs": [
    {
     "data": {
      "text/html": [
       "<style>\n",
       ".output_wrapper, .output {\n",
       "    height:auto !important;\n",
       "    max-height:800px;  /* your desired max-height here */\n",
       "    overflow: auto;\n",
       "}\n",
       ".output_scroll {\n",
       "    box-shadow:none !important;\n",
       "    webkit-box-shadow:none !important;\n",
       "}\n",
       "</style>\n"
      ],
      "text/plain": [
       "<IPython.core.display.HTML object>"
      ]
     },
     "metadata": {},
     "output_type": "display_data"
    }
   ],
   "source": [
    "%%html\n",
    "<style>\n",
    ".output_wrapper, .output {\n",
    "    height:auto !important;\n",
    "    max-height:800px;  /* your desired max-height here */\n",
    "    overflow: auto;\n",
    "}\n",
    ".output_scroll {\n",
    "    box-shadow:none !important;\n",
    "    webkit-box-shadow:none !important;\n",
    "}\n",
    "</style>"
   ]
  },
  {
   "cell_type": "code",
   "execution_count": 2,
   "id": "91ffb3ea",
   "metadata": {},
   "outputs": [],
   "source": [
    "import pandas as pd \n",
    "import numpy as np\n",
    "import matplotlib.pyplot as plt\n",
    "import re"
   ]
  },
  {
   "cell_type": "code",
   "execution_count": 3,
   "id": "dd0c7690",
   "metadata": {},
   "outputs": [],
   "source": [
    "services = [\"Activationreports\",\n",
    "\"Api\",\n",
    "\"Audit\",\n",
    "\"Auth\",\n",
    "\"Authinternal\",\n",
    "\"B2b\",\n",
    "\"Barcodes\",\n",
    "\"Basket\",\n",
    "\"Catalog\",\n",
    "\"Cms\",\n",
    "\"Dwhexport\",\n",
    "\"Exchangerate\",\n",
    "\"Finance\",\n",
    "\"Financeinternal\",\n",
    "\"Localgiftcard\",\n",
    "\"Logistics\",\n",
    "\"Mainsite\",\n",
    "\"Messaging\",\n",
    "\"Mobilepay\",\n",
    "\"Navproxy\",\n",
    "\"Orders\",\n",
    "\"Packinglist\",\n",
    "\"Payments\",\n",
    "\"Paymentspublic\",\n",
    "\"Productsaggregator\",\n",
    "\"Providerintegrations\",\n",
    "\"Purchaseorders\",\n",
    "\"Refund\",\n",
    "\"Retail\",\n",
    "\"Search\",\n",
    "\"Smartwebsync\",\n",
    "\"Supergiftcard\",\n",
    "\"Tax\",\n",
    "\"Telemetry\",\n",
    "\"Templates\",\n",
    "\"Transitionlayer\",\n",
    "\"Uploadedvouchers\",\n",
    "\"Utilities\",\n",
    "\"Vendor\",\n",
    "\"Voucher\"]"
   ]
  },
  {
   "cell_type": "code",
   "execution_count": 4,
   "id": "4f77c247",
   "metadata": {},
   "outputs": [
    {
     "name": "stderr",
     "output_type": "stream",
     "text": [
      "C:\\Users\\dnfmge\\AppData\\Roaming\\Python\\Python39\\site-packages\\IPython\\core\\interactiveshell.py:3369: DtypeWarning: Columns (1,2,3,4,5,6,7,8,9,10,11,12,13,14,15,16,17,18,19,20,21,22,23,24,25,26,27,28,29,30,31,32,33,34,35,36,37,38,39,40,41,42,43,44,45,46,47,48,49,50,51,52,53,54,55,56,57,58,59,60,61,62,63,64,65,66,67,68,69,70,71,72,73,74,75,76,77,78,79,80,81,82,83) have mixed types.Specify dtype option on import or set low_memory=False.\n",
      "  exec(code_obj, self.user_global_ns, self.user_ns)\n"
     ]
    }
   ],
   "source": [
    "input_df = pd.read_csv('cpu_utilization.csv')"
   ]
  },
  {
   "cell_type": "code",
   "execution_count": 42,
   "id": "69ae78ac",
   "metadata": {},
   "outputs": [],
   "source": [
    "def fetch_column(df, service_name, resource):\n",
    "    for(columnName, columnData) in input_df.iteritems():\n",
    "        if re.match(f'.*[A-Z0-9]{{12}}-({service_name})Service-.* ({resource}).*', columnData[0]) is not None:\n",
    "            return columnData\n",
    "    return None"
   ]
  },
  {
   "cell_type": "code",
   "execution_count": 48,
   "id": "a1b5d203",
   "metadata": {},
   "outputs": [],
   "source": [
    "output_df = pd.DataFrame(columns=['timestamp', 'service','cpu','memory'])"
   ]
  },
  {
   "cell_type": "code",
   "execution_count": 13,
   "id": "3308c40b",
   "metadata": {},
   "outputs": [
    {
     "data": {
      "text/plain": [
       "array(['2022/02/24 00:10:00', '2022/02/24 00:15:00',\n",
       "       '2022/02/24 00:20:00', ..., '2022/04/25 08:25:00',\n",
       "       '2022/04/25 08:30:00', '2022/04/25 08:35:00'], dtype=object)"
      ]
     },
     "execution_count": 13,
     "metadata": {},
     "output_type": "execute_result"
    }
   ],
   "source": [
    "timestamps = input_df['Id'][2:].values"
   ]
  },
  {
   "cell_type": "code",
   "execution_count": 49,
   "id": "e6fabeb2",
   "metadata": {},
   "outputs": [],
   "source": [
    "for service_name in services:\n",
    "    cpu = fetch_column(input_df, service_name, 'CPU')\n",
    "    if cpu is not None:\n",
    "        cpu = cpu[2:]\n",
    "    memory = fetch_column(input_df, service_name, 'Memory')\n",
    "    if memory is not None:\n",
    "        memory = memory[2:]\n",
    "    output_df = pd.concat([pd.DataFrame({'timestamp': timestamps, 'cpu': cpu, 'memory': memory, 'service': service_name}), output_df], ignore_index=True)"
   ]
  },
  {
   "cell_type": "markdown",
   "id": "97e812ea",
   "metadata": {},
   "source": [
    "output_df.to_csv('utilization_reshaped.csv', index=False)"
   ]
  }
 ],
 "metadata": {
  "kernelspec": {
   "display_name": "Python 3 (ipykernel)",
   "language": "python",
   "name": "python3"
  },
  "language_info": {
   "codemirror_mode": {
    "name": "ipython",
    "version": 3
   },
   "file_extension": ".py",
   "mimetype": "text/x-python",
   "name": "python",
   "nbconvert_exporter": "python",
   "pygments_lexer": "ipython3",
   "version": "3.9.12"
  }
 },
 "nbformat": 4,
 "nbformat_minor": 5
}
