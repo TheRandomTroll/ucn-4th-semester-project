{
 "cells": [
  {
   "cell_type": "code",
   "execution_count": 1,
   "id": "eb8c779a",
   "metadata": {},
   "outputs": [
    {
     "data": {
      "text/html": [
       "<style>\n",
       ".output_wrapper, .output {\n",
       "    height:auto !important;\n",
       "    max-height:800px;  /* your desired max-height here */\n",
       "    overflow: auto;\n",
       "}\n",
       ".output_scroll {\n",
       "    box-shadow:none !important;\n",
       "    webkit-box-shadow:none !important;\n",
       "}\n",
       "</style>\n"
      ],
      "text/plain": [
       "<IPython.core.display.HTML object>"
      ]
     },
     "metadata": {},
     "output_type": "display_data"
    }
   ],
   "source": [
    "%%html\n",
    "<style>\n",
    ".output_wrapper, .output {\n",
    "    height:auto !important;\n",
    "    max-height:800px;  /* your desired max-height here */\n",
    "    overflow: auto;\n",
    "}\n",
    ".output_scroll {\n",
    "    box-shadow:none !important;\n",
    "    webkit-box-shadow:none !important;\n",
    "}\n",
    "</style>"
   ]
  },
  {
   "cell_type": "code",
   "execution_count": 2,
   "id": "19be4d3c",
   "metadata": {},
   "outputs": [],
   "source": [
    "import pandas as pd \n",
    "import numpy as np\n",
    "import matplotlib.pyplot as plt\n",
    "from matplotlib import gridspec\n",
    "import nltk\n",
    "from nltk.tokenize import word_tokenize\n",
    "from nltk.stem.porter import PorterStemmer\n",
    "from sklearn import preprocessing\n",
    "from sklearn.cluster import OPTICS, cluster_optics_dbscan\n",
    "from sklearn.feature_extraction.text import TfidfVectorizer\n",
    "from sklearn.preprocessing import normalize\n",
    "from sklearn.decomposition import PCA\n",
    "import re"
   ]
  },
  {
   "cell_type": "code",
   "execution_count": 3,
   "id": "7a80b285",
   "metadata": {},
   "outputs": [],
   "source": [
    "html_tags = [\"a\",\n",
    "\"abbr\",\n",
    "\"acronym\",\n",
    "\"address\",\n",
    "\"applet\",\n",
    "\"area\",\n",
    "\"article\",\n",
    "\"aside\",\n",
    "\"audio\",\n",
    "\"b\",\n",
    "\"base\",\n",
    "\"basefont\",\n",
    "\"bdi\",\n",
    "\"bdo\",\n",
    "\"bgsound\",\n",
    "\"big\",\n",
    "\"blink\",\n",
    "\"blockquote\",\n",
    "\"body\",\n",
    "\"br\",\n",
    "\"button\",\n",
    "\"canvas\",\n",
    "\"caption\",\n",
    "\"center\",\n",
    "\"cite\",\n",
    "\"code\",\n",
    "\"col\",\n",
    "\"colgroup\",\n",
    "\"content\",\n",
    "\"data\",\n",
    "\"datalist\",\n",
    "\"dd\",\n",
    "\"decorator\",\n",
    "\"del\",\n",
    "\"details\",\n",
    "\"dfn\",\n",
    "\"dir\",\n",
    "\"div\",\n",
    "\"dl\",\n",
    "\"dt\",\n",
    "\"element\",\n",
    "\"em\",\n",
    "\"embed\",\n",
    "\"fieldset\",\n",
    "\"figcaption\",\n",
    "\"figure\",\n",
    "\"font\",\n",
    "\"footer\",\n",
    "\"form\",\n",
    "\"frame\",\n",
    "\"frameset\",\n",
    "\"h1\",\n",
    "\"h2\",\n",
    "\"h3\",\n",
    "\"h4\",\n",
    "\"h5\",\n",
    "\"h6\",\n",
    "\"head\",\n",
    "\"header\",\n",
    "\"hgroup\",\n",
    "\"hr\",\n",
    "\"html\",\n",
    "\"i\",\n",
    "\"iframe\",\n",
    "\"img\",\n",
    "\"input\",\n",
    "\"ins\",\n",
    "\"isindex\",\n",
    "\"kbd\",\n",
    "\"keygen\",\n",
    "\"label\",\n",
    "\"legend\",\n",
    "\"li\",\n",
    "\"link\",\n",
    "\"listing\",\n",
    "\"main\",\n",
    "\"map\",\n",
    "\"mark\",\n",
    "\"marquee\",\n",
    "\"menu\",\n",
    "\"menuitem\",\n",
    "\"meta\",\n",
    "\"meter\",\n",
    "\"nav\",\n",
    "\"nobr\",\n",
    "\"noframes\",\n",
    "\"noscript\",\n",
    "\"object\",\n",
    "\"ol\",\n",
    "\"optgroup\",\n",
    "\"option\",\n",
    "\"output\",\n",
    "\"p\",\n",
    "\"param\",\n",
    "\"plaintext\",\n",
    "\"pre\",\n",
    "\"progress\",\n",
    "\"q\",\n",
    "\"rp\",\n",
    "\"rt\",\n",
    "\"ruby\",\n",
    "\"s\",\n",
    "\"samp\",\n",
    "\"script\",\n",
    "\"section\",\n",
    "\"select\",\n",
    "\"shadow\",\n",
    "\"small\",\n",
    "\"source\",\n",
    "\"spacer\",\n",
    "\"span\",\n",
    "\"strike\",\n",
    "\"strong\",\n",
    "\"style\",\n",
    "\"sub\",\n",
    "\"summary\",\n",
    "\"sup\",\n",
    "\"table\",\n",
    "\"tbody\",\n",
    "\"td\",\n",
    "\"template\",\n",
    "\"textarea\",\n",
    "\"tfoot\",\n",
    "\"th\",\n",
    "\"thead\",\n",
    "\"time\",\n",
    "\"title\",\n",
    "\"tr\",\n",
    "\"track\",\n",
    "\"tt\",\n",
    "\"u\",\n",
    "\"ul\",\n",
    "\"var\",\n",
    "\"video\",\n",
    "\"wbr\",\n",
    "\"xmp\"];"
   ]
  },
  {
   "cell_type": "code",
   "execution_count": 4,
   "id": "f4c852cb",
   "metadata": {},
   "outputs": [],
   "source": [
    "le = preprocessing.LabelEncoder()\n",
    "df = pd.concat(map(pd.read_csv, ['input_warn.csv', 'input_error.csv', 'input_exhaustion.csv', 'input_info.csv']))\n",
    "df = df.sample(frac=1).reset_index(drop=True)"
   ]
  },
  {
   "cell_type": "code",
   "execution_count": 5,
   "id": "b90e1b74",
   "metadata": {},
   "outputs": [],
   "source": [
    "df = df.fillna('')"
   ]
  },
  {
   "cell_type": "code",
   "execution_count": 6,
   "id": "33cd8b4d",
   "metadata": {},
   "outputs": [],
   "source": [
    "df = df.drop(['hits/_index', 'hits/_type', 'hits/_id', 'hits/_score'], axis=1)"
   ]
  },
  {
   "cell_type": "code",
   "execution_count": 7,
   "id": "0e82def9",
   "metadata": {},
   "outputs": [
    {
     "data": {
      "text/plain": [
       "hits/_source/$event/app          object\n",
       "hits/_source/$event/exception    object\n",
       "hits/_source/$event/level        object\n",
       "hits/_source/$event/message      object\n",
       "hits/_source/$event/timestamp    object\n",
       "dtype: object"
      ]
     },
     "execution_count": 7,
     "metadata": {},
     "output_type": "execute_result"
    }
   ],
   "source": [
    "df.dtypes"
   ]
  },
  {
   "cell_type": "code",
   "execution_count": 8,
   "id": "9415006e",
   "metadata": {},
   "outputs": [],
   "source": [
    "df['hits/_source/$event/timestamp'] = pd.to_datetime(df['hits/_source/$event/timestamp'])\n",
    "df['hits/_source/$event/level'] = le.fit_transform(df['hits/_source/$event/level'])"
   ]
  },
  {
   "cell_type": "code",
   "execution_count": 9,
   "id": "23cb12ca",
   "metadata": {},
   "outputs": [
    {
     "data": {
      "text/html": [
       "<div>\n",
       "<style scoped>\n",
       "    .dataframe tbody tr th:only-of-type {\n",
       "        vertical-align: middle;\n",
       "    }\n",
       "\n",
       "    .dataframe tbody tr th {\n",
       "        vertical-align: top;\n",
       "    }\n",
       "\n",
       "    .dataframe thead th {\n",
       "        text-align: right;\n",
       "    }\n",
       "</style>\n",
       "<table border=\"1\" class=\"dataframe\">\n",
       "  <thead>\n",
       "    <tr style=\"text-align: right;\">\n",
       "      <th></th>\n",
       "      <th>hits/_source/$event/app</th>\n",
       "      <th>hits/_source/$event/exception</th>\n",
       "      <th>hits/_source/$event/level</th>\n",
       "      <th>hits/_source/$event/message</th>\n",
       "      <th>hits/_source/$event/timestamp</th>\n",
       "    </tr>\n",
       "  </thead>\n",
       "  <tbody>\n",
       "    <tr>\n",
       "      <th>0</th>\n",
       "      <td>Exchange Rate Service</td>\n",
       "      <td></td>\n",
       "      <td>1</td>\n",
       "      <td>The closest date for 04/19/2022 00:47:34 is da...</td>\n",
       "      <td>2022-04-19 00:47:34.758000+00:00</td>\n",
       "    </tr>\n",
       "    <tr>\n",
       "      <th>1</th>\n",
       "      <td>Templates Service</td>\n",
       "      <td></td>\n",
       "      <td>0</td>\n",
       "      <td>TemplateFetchError: Template corresponding to ...</td>\n",
       "      <td>2022-04-19 09:04:56.977000+00:00</td>\n",
       "    </tr>\n",
       "    <tr>\n",
       "      <th>2</th>\n",
       "      <td>Exchange Rate Service</td>\n",
       "      <td></td>\n",
       "      <td>1</td>\n",
       "      <td>The closest date for 04/19/2022 00:46:40 is da...</td>\n",
       "      <td>2022-04-19 00:46:40.714000+00:00</td>\n",
       "    </tr>\n",
       "    <tr>\n",
       "      <th>3</th>\n",
       "      <td>Orders Service</td>\n",
       "      <td></td>\n",
       "      <td>0</td>\n",
       "      <td>Numfailed attempts: 1, amountToCapture: 71.2, ...</td>\n",
       "      <td>2022-04-19 09:07:13.510000+00:00</td>\n",
       "    </tr>\n",
       "    <tr>\n",
       "      <th>4</th>\n",
       "      <td>Cms Service</td>\n",
       "      <td></td>\n",
       "      <td>2</td>\n",
       "      <td>Slow response detected from \"http://cms.gogift...</td>\n",
       "      <td>2022-04-19 00:53:40.982000+00:00</td>\n",
       "    </tr>\n",
       "  </tbody>\n",
       "</table>\n",
       "</div>"
      ],
      "text/plain": [
       "  hits/_source/$event/app hits/_source/$event/exception  \\\n",
       "0   Exchange Rate Service                                 \n",
       "1       Templates Service                                 \n",
       "2   Exchange Rate Service                                 \n",
       "3          Orders Service                                 \n",
       "4             Cms Service                                 \n",
       "\n",
       "   hits/_source/$event/level  \\\n",
       "0                          1   \n",
       "1                          0   \n",
       "2                          1   \n",
       "3                          0   \n",
       "4                          2   \n",
       "\n",
       "                         hits/_source/$event/message  \\\n",
       "0  The closest date for 04/19/2022 00:47:34 is da...   \n",
       "1  TemplateFetchError: Template corresponding to ...   \n",
       "2  The closest date for 04/19/2022 00:46:40 is da...   \n",
       "3  Numfailed attempts: 1, amountToCapture: 71.2, ...   \n",
       "4  Slow response detected from \"http://cms.gogift...   \n",
       "\n",
       "     hits/_source/$event/timestamp  \n",
       "0 2022-04-19 00:47:34.758000+00:00  \n",
       "1 2022-04-19 09:04:56.977000+00:00  \n",
       "2 2022-04-19 00:46:40.714000+00:00  \n",
       "3 2022-04-19 09:07:13.510000+00:00  \n",
       "4 2022-04-19 00:53:40.982000+00:00  "
      ]
     },
     "execution_count": 9,
     "metadata": {},
     "output_type": "execute_result"
    }
   ],
   "source": [
    "df.head()"
   ]
  },
  {
   "cell_type": "code",
   "execution_count": 10,
   "id": "aa6eb564",
   "metadata": {},
   "outputs": [],
   "source": [
    "stemmer = PorterStemmer()\n",
    "def stemming_tokenizer(str_input):\n",
    "    words = re.sub(r\"[^A-Za-z0-9\\-]\", \" \", str_input).lower().split()\n",
    "    words = [porter_stemmer.stem(word) for word in words]\n",
    "    return words"
   ]
  },
  {
   "cell_type": "code",
   "execution_count": 11,
   "id": "bdb5d444",
   "metadata": {},
   "outputs": [],
   "source": [
    "def tokenize(text):\n",
    "    # first tokenize by sentence, then by word to ensure that punctuation is caught as it's own token\n",
    "    tokens = [word for sent in nltk.sent_tokenize(text) for word in nltk.word_tokenize(sent)]\n",
    "    filtered_tokens = []\n",
    "    # filter out any tokens not containing letters (e.g., numeric tokens, raw punctuation, html tags)\n",
    "    for token in tokens:\n",
    "        if re.search('^[a-zA-Z]+$', token) and not token in html_tags:\n",
    "            filtered_tokens.append(token)\n",
    "    return filtered_tokens"
   ]
  },
  {
   "cell_type": "code",
   "execution_count": 12,
   "id": "6b9e0f52",
   "metadata": {},
   "outputs": [],
   "source": [
    "data = df['hits/_source/$event/message']\n",
    "types = df['hits/_source/$event/level']\n",
    "\n",
    "\n",
    "tf_idf_vectorizer = TfidfVectorizer(stop_words = 'english', tokenizer = tokenize, lowercase=False,\n",
    "                             max_features = 20000)\n",
    "tf_idf = tf_idf_vectorizer.fit_transform(data)\n",
    "tf_idf_norm = normalize(tf_idf)\n",
    "tf_idf_array = tf_idf_norm.toarray()"
   ]
  },
  {
   "cell_type": "code",
   "execution_count": 13,
   "id": "44272760",
   "metadata": {},
   "outputs": [
    {
     "name": "stdout",
     "output_type": "stream",
     "text": [
      "[[ 7.67664534e-01  2.30773207e-01  4.54794897e-02 ... -1.61100784e-05\n",
      "  -4.26335929e-04 -5.31477300e-04]\n",
      " [-1.01715277e-01 -1.72996607e-01 -9.61823654e-02 ... -2.02009302e-03\n",
      "  -2.46056668e-02 -2.50361412e-02]\n",
      " [ 7.67664534e-01  2.30773207e-01  4.54794897e-02 ... -1.61100784e-05\n",
      "  -4.26335929e-04 -5.31477300e-04]\n",
      " ...\n",
      " [ 7.67664534e-01  2.30773207e-01  4.54794897e-02 ... -1.61100784e-05\n",
      "  -4.26335929e-04 -5.31477300e-04]\n",
      " [-1.19229192e-01 -2.26433558e-01 -1.79287972e-01 ... -2.67941341e-01\n",
      "   2.02360877e-02  1.52058722e-02]\n",
      " [-9.88843860e-02 -1.65623329e-01 -8.90402213e-02 ... -2.81363032e-02\n",
      "  -2.74406865e-02  6.03857328e-02]]\n"
     ]
    },
    {
     "name": "stderr",
     "output_type": "stream",
     "text": [
      "C:\\Users\\dnfmge\\Anaconda3\\envs\\tf-gpu\\lib\\site-packages\\sklearn\\cluster\\_optics.py:903: RuntimeWarning: divide by zero encountered in true_divide\n",
      "  ratio = reachability_plot[:-1] / reachability_plot[1:]\n"
     ]
    },
    {
     "data": {
      "text/plain": [
       "OPTICS(min_cluster_size=0.05, min_samples=10)"
      ]
     },
     "execution_count": 13,
     "metadata": {},
     "output_type": "execute_result"
    }
   ],
   "source": [
    "sklearn_pca = PCA(n_components = 28)\n",
    "y_sklearn = sklearn_pca.fit_transform(tf_idf_array)\n",
    "\n",
    "print(y_sklearn)\n",
    "\n",
    "# Trying out OPTICS\n",
    "# Building the OPTICS Clustering model\n",
    "optics_model = OPTICS(min_samples = 10, xi = 0.05, min_cluster_size = 0.05)\n",
    "  \n",
    "# Training the model\n",
    "optics_model.fit(y_sklearn)"
   ]
  },
  {
   "cell_type": "code",
   "execution_count": 14,
   "id": "06743a5d",
   "metadata": {},
   "outputs": [
    {
     "name": "stdout",
     "output_type": "stream",
     "text": [
      "[0 0 0 ... 4 4 4]\n"
     ]
    }
   ],
   "source": [
    "# Producing the labels according to the DBSCAN technique with eps = 0.5\n",
    "labels1 = cluster_optics_dbscan(reachability = optics_model.reachability_,\n",
    "                                   core_distances = optics_model.core_distances_,\n",
    "                                   ordering = optics_model.ordering_, eps = 0.5)\n",
    "  \n",
    "# Producing the labels according to the DBSCAN technique with eps = 2.0\n",
    "labels2 = cluster_optics_dbscan(reachability = optics_model.reachability_,\n",
    "                                   core_distances = optics_model.core_distances_,\n",
    "                                   ordering = optics_model.ordering_, eps = 2)\n",
    "  \n",
    "# Creating a numpy array with numbers at equal spaces till\n",
    "# the specified range\n",
    "space = np.arange(len(y_sklearn))\n",
    "  \n",
    "# Storing the reachability distance of each point\n",
    "reachability = optics_model.reachability_[optics_model.ordering_]\n",
    "  \n",
    "# Storing the cluster labels of each point\n",
    "labels = optics_model.labels_[optics_model.ordering_]\n",
    "  \n",
    "print(labels)"
   ]
  },
  {
   "cell_type": "code",
   "execution_count": 15,
   "id": "4670bf1a",
   "metadata": {},
   "outputs": [
    {
     "data": {
      "image/png": "[encoded data removed]",
      "text/plain": [
       "<Figure size 720x504 with 4 Axes>"
      ]
     },
     "metadata": {
      "needs_background": "light"
     },
     "output_type": "display_data"
    }
   ],
   "source": [
    "plt.figure(figsize =(10, 7))\n",
    "G = gridspec.GridSpec(2, 3)\n",
    "ax1 = plt.subplot(G[0, :])\n",
    "ax2 = plt.subplot(G[1, 0])\n",
    "ax3 = plt.subplot(G[1, 1])\n",
    "ax4 = plt.subplot(G[1, 2])\n",
    "  \n",
    "# Plotting the Reachability-Distance Plot\n",
    "colors = ['c.', 'b.', 'r.', 'y.', 'g.']\n",
    "for Class, colour in zip(range(0, 5), colors):\n",
    "    Xk = space[labels == Class]\n",
    "    Rk = reachability[labels == Class]\n",
    "    ax1.plot(Xk, Rk, colour, alpha = 0.3)\n",
    "ax1.plot(space[labels == -1], reachability[labels == -1], 'k.', alpha = 0.3)\n",
    "ax1.plot(space, np.full_like(space, 2., dtype = float), 'k-', alpha = 0.5)\n",
    "ax1.plot(space, np.full_like(space, 0.5, dtype = float), 'k-.', alpha = 0.5)\n",
    "ax1.set_ylabel('Reachability Distance')\n",
    "ax1.set_title('Reachability Plot')\n",
    "  \n",
    "# Plotting the OPTICS Clustering\n",
    "colors = ['c.', 'b.', 'r.', 'y.', 'g.']\n",
    "for Class, colour in zip(range(0, 5), colors):\n",
    "    Xk = y_sklearn[optics_model.labels_ == Class]\n",
    "    ax2.plot(Xk[:, 0], Xk[:, 1], colour, alpha = 0.3)\n",
    "      \n",
    "ax2.plot(y_sklearn[optics_model.labels_ == -1, 0],\n",
    "        y_sklearn[optics_model.labels_ == -1, 1],\n",
    "       'k+', alpha = 0.1)\n",
    "ax2.set_title('OPTICS Clustering')\n",
    "  \n",
    "# Plotting the DBSCAN Clustering with eps = 0.5\n",
    "colors = ['c', 'b', 'r', 'y', 'g', 'greenyellow']\n",
    "for Class, colour in zip(range(0, 6), colors):\n",
    "    Xk = y_sklearn[labels1 == Class]\n",
    "    ax3.plot(Xk[:, 0], Xk[:, 1], colour, alpha = 0.3, marker ='.')\n",
    "        \n",
    "ax3.plot(y_sklearn[labels1 == -1, 0],\n",
    "        y_sklearn[labels1 == -1, 1],\n",
    "       'k+', alpha = 0.1)\n",
    "ax3.set_title('DBSCAN clustering with eps = 0.5')\n",
    "  \n",
    "# Plotting the DBSCAN Clustering with eps = 2.0\n",
    "colors = ['c.', 'y.', 'm.', 'g.']\n",
    "for Class, colour in zip(range(0, 4), colors):\n",
    "    Xk = y_sklearn[labels2 == Class]\n",
    "    ax4.plot(Xk[:, 0], Xk[:, 1], colour, alpha = 0.3)\n",
    "          \n",
    "ax4.plot(y_sklearn[labels2 == -1, 0],\n",
    "        y_sklearn[labels2 == -1, 1],\n",
    "       'k+', alpha = 0.1)\n",
    "ax4.set_title('DBSCAN Clustering with eps = 2.0')\n",
    "  \n",
    "  \n",
    "plt.tight_layout()\n",
    "plt.show()"
   ]
  },
  {
   "cell_type": "code",
   "execution_count": 16,
   "id": "3bd3f602",
   "metadata": {},
   "outputs": [
    {
     "data": {
      "image/png": "[encoded data removed]",
      "text/plain": [
       "<Figure size 576x360 with 1 Axes>"
      ]
     },
     "metadata": {
      "needs_background": "light"
     },
     "output_type": "display_data"
    },
    {
     "data": {
      "image/png": "[encoded data removed]",
      "text/plain": [
       "<Figure size 576x360 with 1 Axes>"
      ]
     },
     "metadata": {
      "needs_background": "light"
     },
     "output_type": "display_data"
    },
    {
     "data": {
      "image/png": "[encoded data removed]",
      "text/plain": [
       "<Figure size 576x360 with 1 Axes>"
      ]
     },
     "metadata": {
      "needs_background": "light"
     },
     "output_type": "display_data"
    },
    {
     "data": {
      "image/png": "[encoded data removed]",
      "text/plain": [
       "<Figure size 576x360 with 1 Axes>"
      ]
     },
     "metadata": {
      "needs_background": "light"
     },
     "output_type": "display_data"
    },
    {
     "data": {
      "image/png": "[encoded data removed]",
      "text/plain": [
       "<Figure size 576x360 with 1 Axes>"
      ]
     },
     "metadata": {
      "needs_background": "light"
     },
     "output_type": "display_data"
    },
    {
     "data": {
      "image/png": "[encoded data removed]",
      "text/plain": [
       "<Figure size 576x360 with 1 Axes>"
      ]
     },
     "metadata": {
      "needs_background": "light"
     },
     "output_type": "display_data"
    }
   ],
   "source": [
    "def get_top_features_cluster(tf_idf_array, n_feats):\n",
    "    labels = np.unique(optics_model.labels_)\n",
    "    dfs = []\n",
    "    for label in labels:\n",
    "        id_temp = np.where(optics_model.labels_==label) # indices for each cluster\n",
    "        x_means = np.mean(tf_idf_array[id_temp], axis = 0) # returns average score across cluster\n",
    "        sorted_means = np.argsort(x_means)[::-1][:n_feats] # indices with top 20 scores\n",
    "        features = tf_idf_vectorizer.get_feature_names_out()\n",
    "        best_features = [(features[i], x_means[i]) for i in sorted_means]\n",
    "        df = pd.DataFrame(best_features, columns = ['features', 'score'])\n",
    "        dfs.append(df)\n",
    "    return dfs\n",
    "dfs = get_top_features_cluster(tf_idf_array, 10)\n",
    "\n",
    "for num, dataframe in enumerate(dfs):\n",
    "    ax = dataframe.plot.bar(x='features', y='score', figsize=(8,5))\n",
    "    for p in ax.patches:\n",
    "        ax.annotate(f'{p.get_height():.4f}', xy=(p.get_x(), p.get_height() * 1.01))\n",
    "    ax.tick_params(axis='x', labelrotation=30)\n",
    "    \n",
    "    ax.set_title(f'Dataframe #{num}')\n",
    "    plt.show()\n"
   ]
  },
  {
   "cell_type": "code",
   "execution_count": 17,
   "id": "d7749c0e",
   "metadata": {},
   "outputs": [],
   "source": [
    "# Defining other algorithms for the sake of testing\n",
    "''' One-class SVM '''\n",
    "def model_ocSVM(data):\n",
    "    from sklearn.svm import OneClassSVM\n",
    "    \n",
    "    ocSVM = OneClassSVM(kernel=\"rbf\")\n",
    "    y_pred = ocSVM.fit_predict(data)\n",
    "    \n",
    "    return y_pred\n",
    "\n",
    "''' Isolation Forest '''\n",
    "def model_iF(data):\n",
    "    from sklearn.ensemble import IsolationForest\n",
    "    \n",
    "    iF = IsolationForest(random_state=0)\n",
    "    y_pred = iF.fit_predict(data)\n",
    "    \n",
    "    return y_pred\n",
    "\n",
    "''' Local Outlier Factor '''\n",
    "def model_LOF(data):\n",
    "    from sklearn.neighbors import LocalOutlierFactor\n",
    "    \n",
    "    lof = LocalOutlierFactor(metric = 'hamming')\n",
    "    y_pred = lof.fit_predict(data)\n",
    "    \n",
    "    return y_pred\n",
    "\n",
    "''' K-Means Machine Learning Model '''\n",
    "def model_KMeans(data):\n",
    "    from sklearn.cluster import KMeans\n",
    "    \n",
    "    kmeans = KMeans(n_clusters = 2, init = 'k-means++', algorithm = 'full', random_state = 42)\n",
    "    y_pred = kmeans.fit_predict(data)\n",
    "    \n",
    "    return y_pred\n",
    "\n",
    "''' Hierarchical Clustering '''\n",
    "def model_HC(data):\n",
    "    from sklearn.cluster import AgglomerativeClustering\n",
    "    \n",
    "    hc = AgglomerativeClustering(n_clusters = 2, affinity = 'euclidean', linkage = 'ward')\n",
    "    y_pred = hc.fit_predict(data)\n",
    "    \n",
    "    return y_pred"
   ]
  },
  {
   "cell_type": "code",
   "execution_count": 18,
   "id": "82517072",
   "metadata": {},
   "outputs": [],
   "source": [
    "models = models = {\"ocSVM\":  model_ocSVM, \"iF\": model_iF, \"LOF\": model_LOF, \n",
    "           \"K-Means\": model_KMeans, \"HC\": model_HC}"
   ]
  },
  {
   "cell_type": "code",
   "execution_count": 19,
   "id": "c0ad833c",
   "metadata": {},
   "outputs": [
    {
     "name": "stdout",
     "output_type": "stream",
     "text": [
      "<class 'numpy.ndarray'>\n",
      "[-1 -1 -1 ... -1 -1  1]\n",
      "<class 'numpy.ndarray'>\n",
      "[ 1  1  1 ...  1 -1  1]\n",
      "<class 'numpy.ndarray'>\n",
      "[-1 -1 -1 ... -1  1 -1]\n",
      "<class 'numpy.ndarray'>\n",
      "[1 0 1 ... 1 0 0]\n",
      "<class 'numpy.ndarray'>\n",
      "[1 0 1 ... 1 0 0]\n"
     ]
    }
   ],
   "source": [
    "for model_name in models:\n",
    "    model = models[model_name]\n",
    "    print(type(y_sklearn))\n",
    "    y_pred = model(y_sklearn)\n",
    "    df[model_name] = y_pred\n",
    "    print(y_pred)"
   ]
  },
  {
   "cell_type": "code",
   "execution_count": 20,
   "id": "5c5fc92e",
   "metadata": {},
   "outputs": [
    {
     "name": "stderr",
     "output_type": "stream",
     "text": [
      "C:\\Users\\dnfmge\\AppData\\Local\\Temp\\ipykernel_34320\\3832755004.py:7: SettingWithCopyWarning: \n",
      "A value is trying to be set on a copy of a slice from a DataFrame\n",
      "\n",
      "See the caveats in the documentation: https://pandas.pydata.org/pandas-docs/stable/user_guide/indexing.html#returning-a-view-versus-a-copy\n",
      "  df[model_name][i] = 1\n",
      "C:\\Users\\dnfmge\\AppData\\Local\\Temp\\ipykernel_34320\\3832755004.py:5: SettingWithCopyWarning: \n",
      "A value is trying to be set on a copy of a slice from a DataFrame\n",
      "\n",
      "See the caveats in the documentation: https://pandas.pydata.org/pandas-docs/stable/user_guide/indexing.html#returning-a-view-versus-a-copy\n",
      "  df[model_name][i] = 0\n"
     ]
    }
   ],
   "source": [
    "for model_name in models:\n",
    "    if model_name == \"ocSVM\" or \"iF\":\n",
    "        for i, row in enumerate(df[model_name]):\n",
    "            if df[model_name][i] == 1:\n",
    "                df[model_name][i] = 0\n",
    "            else:\n",
    "                df[model_name][i] = 1"
   ]
  },
  {
   "cell_type": "code",
   "execution_count": 21,
   "id": "a0b24ce7",
   "metadata": {},
   "outputs": [
    {
     "data": {
      "text/html": [
       "<div>\n",
       "<style scoped>\n",
       "    .dataframe tbody tr th:only-of-type {\n",
       "        vertical-align: middle;\n",
       "    }\n",
       "\n",
       "    .dataframe tbody tr th {\n",
       "        vertical-align: top;\n",
       "    }\n",
       "\n",
       "    .dataframe thead th {\n",
       "        text-align: right;\n",
       "    }\n",
       "</style>\n",
       "<table border=\"1\" class=\"dataframe\">\n",
       "  <thead>\n",
       "    <tr style=\"text-align: right;\">\n",
       "      <th></th>\n",
       "      <th>hits/_source/$event/app</th>\n",
       "      <th>hits/_source/$event/exception</th>\n",
       "      <th>hits/_source/$event/level</th>\n",
       "      <th>hits/_source/$event/message</th>\n",
       "      <th>hits/_source/$event/timestamp</th>\n",
       "      <th>ocSVM</th>\n",
       "      <th>iF</th>\n",
       "      <th>LOF</th>\n",
       "      <th>K-Means</th>\n",
       "      <th>HC</th>\n",
       "    </tr>\n",
       "  </thead>\n",
       "  <tbody>\n",
       "    <tr>\n",
       "      <th>0</th>\n",
       "      <td>Exchange Rate Service</td>\n",
       "      <td></td>\n",
       "      <td>1</td>\n",
       "      <td>The closest date for 04/19/2022 00:47:34 is da...</td>\n",
       "      <td>2022-04-19 00:47:34.758000+00:00</td>\n",
       "      <td>1</td>\n",
       "      <td>0</td>\n",
       "      <td>1</td>\n",
       "      <td>0</td>\n",
       "      <td>0</td>\n",
       "    </tr>\n",
       "    <tr>\n",
       "      <th>1</th>\n",
       "      <td>Templates Service</td>\n",
       "      <td></td>\n",
       "      <td>0</td>\n",
       "      <td>TemplateFetchError: Template corresponding to ...</td>\n",
       "      <td>2022-04-19 09:04:56.977000+00:00</td>\n",
       "      <td>1</td>\n",
       "      <td>0</td>\n",
       "      <td>1</td>\n",
       "      <td>1</td>\n",
       "      <td>1</td>\n",
       "    </tr>\n",
       "    <tr>\n",
       "      <th>2</th>\n",
       "      <td>Exchange Rate Service</td>\n",
       "      <td></td>\n",
       "      <td>1</td>\n",
       "      <td>The closest date for 04/19/2022 00:46:40 is da...</td>\n",
       "      <td>2022-04-19 00:46:40.714000+00:00</td>\n",
       "      <td>1</td>\n",
       "      <td>0</td>\n",
       "      <td>1</td>\n",
       "      <td>0</td>\n",
       "      <td>0</td>\n",
       "    </tr>\n",
       "    <tr>\n",
       "      <th>3</th>\n",
       "      <td>Orders Service</td>\n",
       "      <td></td>\n",
       "      <td>0</td>\n",
       "      <td>Numfailed attempts: 1, amountToCapture: 71.2, ...</td>\n",
       "      <td>2022-04-19 09:07:13.510000+00:00</td>\n",
       "      <td>1</td>\n",
       "      <td>1</td>\n",
       "      <td>1</td>\n",
       "      <td>1</td>\n",
       "      <td>1</td>\n",
       "    </tr>\n",
       "    <tr>\n",
       "      <th>4</th>\n",
       "      <td>Cms Service</td>\n",
       "      <td></td>\n",
       "      <td>2</td>\n",
       "      <td>Slow response detected from \"http://cms.gogift...</td>\n",
       "      <td>2022-04-19 00:53:40.982000+00:00</td>\n",
       "      <td>1</td>\n",
       "      <td>0</td>\n",
       "      <td>1</td>\n",
       "      <td>1</td>\n",
       "      <td>1</td>\n",
       "    </tr>\n",
       "    <tr>\n",
       "      <th>...</th>\n",
       "      <td>...</td>\n",
       "      <td>...</td>\n",
       "      <td>...</td>\n",
       "      <td>...</td>\n",
       "      <td>...</td>\n",
       "      <td>...</td>\n",
       "      <td>...</td>\n",
       "      <td>...</td>\n",
       "      <td>...</td>\n",
       "      <td>...</td>\n",
       "    </tr>\n",
       "    <tr>\n",
       "      <th>295</th>\n",
       "      <td>ProductsAggregatorService</td>\n",
       "      <td>Npgsql.PostgresException (0x80004005): 42P10: ...</td>\n",
       "      <td>0</td>\n",
       "      <td>10 state change attempt(s) failed due to an ex...</td>\n",
       "      <td>2022-04-19 10:54:22.273000+00:00</td>\n",
       "      <td>0</td>\n",
       "      <td>0</td>\n",
       "      <td>0</td>\n",
       "      <td>1</td>\n",
       "      <td>1</td>\n",
       "    </tr>\n",
       "    <tr>\n",
       "      <th>296</th>\n",
       "      <td>Exchange Rate Service</td>\n",
       "      <td></td>\n",
       "      <td>1</td>\n",
       "      <td>The closest date for 04/19/2022 00:48:06 is da...</td>\n",
       "      <td>2022-04-19 00:48:06.640000+00:00</td>\n",
       "      <td>1</td>\n",
       "      <td>0</td>\n",
       "      <td>0</td>\n",
       "      <td>0</td>\n",
       "      <td>0</td>\n",
       "    </tr>\n",
       "    <tr>\n",
       "      <th>297</th>\n",
       "      <td>Orders Service</td>\n",
       "      <td>Npgsql.NpgsqlException (0x80004005): Exception...</td>\n",
       "      <td>0</td>\n",
       "      <td>Something went wrong while handling SQS messag...</td>\n",
       "      <td>2022-04-19 01:09:07.588000+00:00</td>\n",
       "      <td>0</td>\n",
       "      <td>0</td>\n",
       "      <td>0</td>\n",
       "      <td>1</td>\n",
       "      <td>1</td>\n",
       "    </tr>\n",
       "    <tr>\n",
       "      <th>298</th>\n",
       "      <td>Catalog Service</td>\n",
       "      <td></td>\n",
       "      <td>0</td>\n",
       "      <td>Inventory entry with sku '50E7F42E' not found ...</td>\n",
       "      <td>2022-04-19 12:28:20.585000+00:00</td>\n",
       "      <td>1</td>\n",
       "      <td>0</td>\n",
       "      <td>0</td>\n",
       "      <td>1</td>\n",
       "      <td>1</td>\n",
       "    </tr>\n",
       "    <tr>\n",
       "      <th>299</th>\n",
       "      <td>Logistics Service</td>\n",
       "      <td>Irisa.Logistics.UserFriendlyServiceException: ...</td>\n",
       "      <td>0</td>\n",
       "      <td>There was error while processing unneeded labe...</td>\n",
       "      <td>2022-04-19 08:56:41.740000+00:00</td>\n",
       "      <td>1</td>\n",
       "      <td>1</td>\n",
       "      <td>0</td>\n",
       "      <td>1</td>\n",
       "      <td>1</td>\n",
       "    </tr>\n",
       "  </tbody>\n",
       "</table>\n",
       "<p>300 rows × 10 columns</p>\n",
       "</div>"
      ],
      "text/plain": [
       "       hits/_source/$event/app  \\\n",
       "0        Exchange Rate Service   \n",
       "1            Templates Service   \n",
       "2        Exchange Rate Service   \n",
       "3               Orders Service   \n",
       "4                  Cms Service   \n",
       "..                         ...   \n",
       "295  ProductsAggregatorService   \n",
       "296      Exchange Rate Service   \n",
       "297             Orders Service   \n",
       "298            Catalog Service   \n",
       "299          Logistics Service   \n",
       "\n",
       "                         hits/_source/$event/exception  \\\n",
       "0                                                        \n",
       "1                                                        \n",
       "2                                                        \n",
       "3                                                        \n",
       "4                                                        \n",
       "..                                                 ...   \n",
       "295  Npgsql.PostgresException (0x80004005): 42P10: ...   \n",
       "296                                                      \n",
       "297  Npgsql.NpgsqlException (0x80004005): Exception...   \n",
       "298                                                      \n",
       "299  Irisa.Logistics.UserFriendlyServiceException: ...   \n",
       "\n",
       "     hits/_source/$event/level  \\\n",
       "0                            1   \n",
       "1                            0   \n",
       "2                            1   \n",
       "3                            0   \n",
       "4                            2   \n",
       "..                         ...   \n",
       "295                          0   \n",
       "296                          1   \n",
       "297                          0   \n",
       "298                          0   \n",
       "299                          0   \n",
       "\n",
       "                           hits/_source/$event/message  \\\n",
       "0    The closest date for 04/19/2022 00:47:34 is da...   \n",
       "1    TemplateFetchError: Template corresponding to ...   \n",
       "2    The closest date for 04/19/2022 00:46:40 is da...   \n",
       "3    Numfailed attempts: 1, amountToCapture: 71.2, ...   \n",
       "4    Slow response detected from \"http://cms.gogift...   \n",
       "..                                                 ...   \n",
       "295  10 state change attempt(s) failed due to an ex...   \n",
       "296  The closest date for 04/19/2022 00:48:06 is da...   \n",
       "297  Something went wrong while handling SQS messag...   \n",
       "298  Inventory entry with sku '50E7F42E' not found ...   \n",
       "299  There was error while processing unneeded labe...   \n",
       "\n",
       "       hits/_source/$event/timestamp  ocSVM  iF  LOF  K-Means  HC  \n",
       "0   2022-04-19 00:47:34.758000+00:00      1   0    1        0   0  \n",
       "1   2022-04-19 09:04:56.977000+00:00      1   0    1        1   1  \n",
       "2   2022-04-19 00:46:40.714000+00:00      1   0    1        0   0  \n",
       "3   2022-04-19 09:07:13.510000+00:00      1   1    1        1   1  \n",
       "4   2022-04-19 00:53:40.982000+00:00      1   0    1        1   1  \n",
       "..                               ...    ...  ..  ...      ...  ..  \n",
       "295 2022-04-19 10:54:22.273000+00:00      0   0    0        1   1  \n",
       "296 2022-04-19 00:48:06.640000+00:00      1   0    0        0   0  \n",
       "297 2022-04-19 01:09:07.588000+00:00      0   0    0        1   1  \n",
       "298 2022-04-19 12:28:20.585000+00:00      1   0    0        1   1  \n",
       "299 2022-04-19 08:56:41.740000+00:00      1   1    0        1   1  \n",
       "\n",
       "[300 rows x 10 columns]"
      ]
     },
     "execution_count": 21,
     "metadata": {},
     "output_type": "execute_result"
    }
   ],
   "source": [
    "df.head(300)"
   ]
  }
 ],
 "metadata": {
  "kernelspec": {
   "display_name": "Python 3 (ipykernel)",
   "language": "python",
   "name": "python3"
  },
  "language_info": {
   "codemirror_mode": {
    "name": "ipython",
    "version": 3
   },
   "file_extension": ".py",
   "mimetype": "text/x-python",
   "name": "python",
   "nbconvert_exporter": "python",
   "pygments_lexer": "ipython3",
   "version": "3.9.12"
  }
 },
 "nbformat": 4,
 "nbformat_minor": 5
}
